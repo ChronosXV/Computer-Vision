{
  "nbformat": 4,
  "nbformat_minor": 0,
  "metadata": {
    "colab": {
      "provenance": [],
      "private_outputs": true,
      "collapsed_sections": [],
      "include_colab_link": true
    },
    "kernelspec": {
      "name": "python3",
      "display_name": "Python 3"
    },
    "accelerator": "GPU",
    "gpuClass": "standard"
  },
  "cells": [
    {
      "cell_type": "markdown",
      "metadata": {
        "id": "view-in-github",
        "colab_type": "text"
      },
      "source": [
        "<a href=\"https://colab.research.google.com/github/SebastianOrmaechea/Computer-Vision/blob/main/Lab_2_CNN_SebaOrmaechea.ipynb\" target=\"_parent\"><img src=\"https://colab.research.google.com/assets/colab-badge.svg\" alt=\"Open In Colab\"/></a>"
      ]
    },
    {
      "cell_type": "markdown",
      "metadata": {
        "id": "DSPCom-KmApV"
      },
      "source": [
        "# Convolutional Neural Network (CNN)\n",
        "\n",
        "Tal como vimos en el notebook anterior, las ANN pueden ser útiles para algunos problemas de análisis de imágenes, pero presentan algunas limitaciones y problemas. Ahora vamos a discutir cómo las CNNs se puede utilizar para resolver la mayoría de estos problemas.\n",
        "\n",
        "**NOTA**: Este notebook ha sido creado a partir de recursos disponibles en la web que se listan a continuación. La fuente de las imágenes originales se puede consultar directamente el markdown insertado en la celda de texto. \n",
        "- https://ujjwalkarn.me/2016/08/11/intuitive-explanation-convnets/\n",
        "- https://towardsdatascience.com/introduction-to-convolutional-neural-network-cnn-de73f69c5b83\n",
        "- https://towardsdatascience.com/applied-deep-learning-part-4-convolutional-neural-networks-584bc134c1e2\n",
        "- https://machinelearningmastery.com/pooling-layers-for-convolutional-neural-networks/"
      ]
    },
    {
      "cell_type": "markdown",
      "metadata": {
        "id": "8wzjrSjmSHPa"
      },
      "source": [
        "## La arquitectura *LeNet* (años 90)\n",
        "\n",
        "*LeNet* fue una de las primeras redes neuronales convolucionales (también llamadas *ConvNet*) que ayudó a impulsar el campo del aprendizaje profundo. Cuando fue creada, LeNet se usaba principalmente para tareas de reconocimiento de caracteres, como leer códigos postales, dígitos, etc.\n",
        "\n",
        "A continuación, veremos una intuición de cómo la arquitectura LeNet aprende a reconocer imágenes. Vale la pena aclarar que se han propuesto varias arquitecturas nuevas en los últimos años que son mejoras sobre LeNet, pero todas utilizan los conceptos principales de LeNet y son relativamente más fáciles de entender si tiene una comprensión clara de la primera.\n",
        "\n",
        "![](https://ujwlkarn.files.wordpress.com/2016/08/screen-shot-2016-08-07-at-4-59-29-pm.png?w=1493)\n",
        "\n",
        "La ConvNet de la figura es similar en arquitectura a la LeNet original y clasifica una imagen de entrada en cuatro categorías: perro, gato, bote o pájaro. Como es evidente en la figura anterior, al recibir una imagen de barco como entrada, la red asigna correctamente la mayor probabilidad de barco (0.94) entre las cuatro categorías. La suma de todas las probabilidades en la capa de salida debe ser 1.\n",
        "\n",
        "Hay cuatro operaciones principales en la ConvNet de la figura anterior:\n",
        "\n",
        "* Convolución\n",
        "* Función de activación / No linealidad (ReLU)\n",
        "* Pooling o Submuestreo\n",
        "* Clasificador (capas completamente conectada)\n",
        "\n",
        "Estas operaciones son los componentes básicos de cada ConvNet, por lo que comprender cómo funcionan es un paso importante para desarrollar una comprensión sólida de esta tecnología. Intentaremos comprender la intuición detrás de cada una de estas operaciones a continuación."
      ]
    },
    {
      "cell_type": "markdown",
      "metadata": {
        "id": "CtFANreETj7N"
      },
      "source": [
        "## Convolución\n",
        "\n",
        "Las ConvNets derivan su nombre del operador *convolución*. El propósito principal de una convolución es extraer características de la imagen de entrada. La convolución preserva la relación espacial entre píxeles al aprender las características de la imagen utilizando pequeñas regiones de datos de la imagen de entrada.\n",
        "\n",
        "![](https://miro.medium.com/max/4680/1*p-_47puSuVNmRJnOXYPQCg.png)\n",
        "\n",
        "En la terminología de CNN, la matriz 3×3 se llama *filtro*, *kernel* o *detector de características*, y el resultado de aplicar el filtro sobre toda la imagen se llama, *mapa de activación* o *feature map*.\n",
        "\n",
        "![](https://ujwlkarn.files.wordpress.com/2016/08/screen-shot-2016-08-05-at-11-03-00-pm.png)\n",
        "\n",
        "Como ya sabemos, diferentes valores para el filtro producirán diferentes feature maps para la misma imagen de entrada. En la siguiente imagen se puede observar este comportamiento.\n",
        "\n",
        "![](https://ujwlkarn.files.wordpress.com/2016/08/giphy.gif?w=480&zoom=2)\n",
        "\n",
        "En la práctica, **una CNN aprende los valores de estos filtros por sí sola** durante el proceso de entrenamiento (aunque aún necesitamos especificar parámetros como el número de filtros, el tamaño del filtro, la arquitectura de la red, etc. antes del proceso de entrenamiento). Cuantos más filtros tengamos, más características visuales se extraerán. "
      ]
    },
    {
      "cell_type": "markdown",
      "metadata": {
        "id": "Sjx7r3-3YEu3"
      },
      "source": [
        "El tamaño de la salida (es decir, el conjunto de los feature maps) se controla mediante tres parámetros que debemos decidir antes de realizar la convolución:\n",
        "\n",
        "* *Profundidad*: corresponde al número de filtros que usamos para la operación de convolución. Por ejemplo, en la figura realizamos una convolución usando 3 filtros distintos, produciendo así 3 feature maps diferentes. Se puede pensar en estos 3 feature maps como 3 matrices 2D apiladas.\n",
        "\n",
        "![](https://ujwlkarn.files.wordpress.com/2016/08/screen-shot-2016-08-10-at-3-42-35-am.png?w=802&h=402)\n",
        "\n",
        "* *Stride*: stride (o paso) es el número de píxeles en el que deslizamos el filtro sobre la imagen de entrada. Tener un paso más grande producirá feature maps más pequeños.\n",
        "\n",
        "![](https://miro.medium.com/max/840/1*L4T6IXRalWoseBncjRr4wQ@2x.gif)\n",
        "\n",
        "![](https://miro.medium.com/max/840/1*4wZt9G7W7CchZO-5rVxl5g@2x.gif)\n",
        "\n",
        "* *Padding*: a veces es conveniente rellenar la imagen de entrada con pixeles auxiliares alrededor del borde, para aplicar el filtro a los elementos en los bordes de la imagen. Agregar relleno se conoce como *convolución amplia* (wide convolution), y no usar relleno como *convolución estrecha* (narrow convolution).\n",
        "\n",
        "![](https://miro.medium.com/max/840/1*W2D564Gkad9lj3_6t9I2PA@2x.gif)"
      ]
    },
    {
      "cell_type": "markdown",
      "metadata": {
        "id": "5SxWnsxcZ1FA"
      },
      "source": [
        "## Función de activación / No linealidad (ReLU)\n",
        "\n",
        "Después de cada operación de convolución, LeNet utiliza una operación adicional llamada *ReLU*. Como vimos en la revisión de los conceptos de ANN, ReLU significa *unidad lineal rectificada* y es una función de activación que realiza una operación no lineal, lo cual es una característica deseable en las ConvNets (aunque vamos a omitir los detalles). Su salida está dada por:\n",
        "\n",
        "![](https://ujwlkarn.files.wordpress.com/2016/08/screen-shot-2016-08-10-at-2-23-48-am.png?w=1071&h=336)\n",
        "\n",
        "La operación ReLU se puede entender claramente a partir de la siguiente imagen, donde la imagen de la izquierda ha sido umbralizada a cero, es decir, reemplaza los valores negativos (píxeles oscuros) del feature map de entrada con cero.\n",
        "\n",
        "![](https://ujwlkarn.files.wordpress.com/2016/08/screen-shot-2016-08-07-at-6-18-19-pm.png?w=1496)\n",
        "\n",
        "Un feature map de salida como éste se denomina feature map *rectificado*. Como ya sabemos, también se pueden usar otras funciones no lineales, como *tanh* o *sigmoide* en lugar de ReLU, pero se ha encontrado que ReLU funciona mejor en la mayoría de las situaciones.\n",
        "Esta operación no modifica las dimensiones de los feature maps.\n"
      ]
    },
    {
      "cell_type": "markdown",
      "metadata": {
        "id": "qu1juH4ubqt0"
      },
      "source": [
        "## Pooling o Submuestreo\n",
        "\n",
        "Esta operación si modifica las dimensiones del feature map.\n",
        "\n",
        "La idea del *pooling espacial* (también llamado submuestreo) es reducir la dimensionalidad de cada feature map, reteniendo la información más importante. El pooling espacial puede ser de diferentes tipos: *Max*, *Mean*, *Sum*, etc. Un pooling típico consiste en tomar una ventana de 2×2 con desplazamiento de 2 píxeles. \n",
        "\n",
        "Para el caso de **Max** pooling se toma el valor máximo dentro de esa ventana como valor del nuevo **pooled featured map**. \n",
        "\n",
        "![](https://miro.medium.com/max/840/1*vOxthD0FpBR6fJcpPxq6Hg.gif)\n",
        "\n",
        "Para el caso de **Mean** polling se toma el promedio de los valores de la ventana como valor del nuevo pixel en el **pooled featured map**. \n",
        "\n",
        "![](https://miro.medium.com/max/569/1*5U2dM5N8uI4eEunolJHRhg.jpeg)\n",
        "\n",
        "Como se muestra en ambas figuras, esta operación reduce la dimensionalidad del feature map de entrada. Esta reducción depende tanto del tamaño de la ventana como del desplazamiento establecido.\n",
        "\n",
        "La figura de abajo muestra el efecto de dos tipos de pooling (Max y Sum) sobre una feature map rectificado:\n",
        "\n",
        "![](https://ujwlkarn.files.wordpress.com/2016/08/screen-shot-2016-08-07-at-6-11-53-pm.png)\n",
        "\n",
        "En particular, la operación de pooling tiene las siguintes ventajas:\n",
        "\n",
        "* reduce sistemáticamente las dimensiones del feature map de entrada, produciendo una salida más pequeñas y manejable;\n",
        "* reduce el número de parámetros y cálculos en la red(controlando el overfitting);\n",
        "* hace que la red sea invariable a pequeñas transformaciones, distorsiones y traslaciones en la imagen de entrada.\n",
        "\n",
        "En la red que se muestra a continuación, la operación de pooling se aplica por separado a cada feature map (tener en cuenta que obtenemos 3 features maps de salida a partir de los tres feature maps de entrada).\n",
        "\n",
        "![](https://ujwlkarn.files.wordpress.com/2016/08/screen-shot-2016-08-07-at-6-19-37-pm.png?w=802&h=438)\n"
      ]
    },
    {
      "cell_type": "markdown",
      "metadata": {
        "id": "lpZ3FbFve8YF"
      },
      "source": [
        "Recopilemos todo lo visto hasta el momento. Ya vimos cómo funcionan las operaciones de convolución, activación y pooling. Es importante comprender que estas capas son los componentes básicos de cualquier CNN, ya que se encargan de extraer las features de las imágenes de entrada. \n",
        "\n",
        "Ahora volvamos a mirar la arquitectura original presentada al inicio del notebook.\n",
        "\n",
        "![](https://ujwlkarn.files.wordpress.com/2016/08/screen-shot-2016-08-08-at-2-26-09-am.png?w=1496)\n",
        "\n",
        "Como se muestra en la figura, tenemos un conjunto de capas (*1st convolución+ReLU*, *1st Pooling*, *2nd convolución+ReLU* y *2nd Pooling*) que en conjunto extraen las features representativas de las imágenes, introducen la no linealidad en la red y reducen la dimensión de las features, mientras intentan que las features sean invariantes en la escala y traslación.\n",
        "\n",
        "La salida de la segunda capa de pooling (*2nd Pooling* en la figura) actúa como una entrada a la capa totalmente conectada (*Fully Connected* en la figura), que se encarga especificamente de realizar la clasificación de las imágenes."
      ]
    },
    {
      "cell_type": "markdown",
      "metadata": {
        "id": "0H0rVaUAf_Iy"
      },
      "source": [
        "## Capa totalmente conectada (ANN)\n",
        "\n",
        "La capa totalmente conectada es un MPL tradicional, similar a la que discutimos en el notebook anterior,  aunque también se podríía usar otros clasificadores como ser SVM, Random Forest, Desicion Tree, etc. \n",
        "\n",
        "En este punto es importante remarcar que la salida de las capas convolucionales y pooling representan **features visuales de alto nivel** de la imagen de entrada. El propósito de la capa totalmente conectada es usar estas features para clasificar una nueva imagen de entrada en una de varias clases. \n",
        "\n",
        "![](https://ujwlkarn.files.wordpress.com/2016/08/screen-shot-2016-08-06-at-12-34-02-am.png?w=968&h=304)\n",
        "\n"
      ]
    },
    {
      "cell_type": "markdown",
      "metadata": {
        "id": "9S4tZPhwhbXv"
      },
      "source": [
        "## Poniendo todo junto: entrenamiento mediante Backpropagation\n",
        "\n",
        "Como se discutió anteriormente, las capas convolución + pooling actúan como extractores de features de la imagen de entrada, mientras que la capa completamente conectada actúa como un clasificador.\n",
        "\n",
        "![](https://ujwlkarn.files.wordpress.com/2016/08/screen-shot-2016-08-07-at-9-15-21-pm.png?w=1496)\n",
        "\n",
        "El entrenamiento de esta red se realiza mediante el algoritmo BackProp que vimos en el notebook anterior. Entrenar una ConvNet significa esencialmente que todos los pesos y parámetros de la red se han optimizado para clasificar correctamente las imágenes del conjunto de entrenamiento.\n",
        "\n",
        "Una vez entrenado el modelo, cuando se ingresa una nueva imagen en ConvNet la red propaga hacia adelante la información hasta la capa de salida, entregando una probabilidad para cada clase. Si nuestro conjunto de entrenamiento es lo suficientemente grande, la red (con suerte) **generalizará** bien a nuevas imágenes no observadas, y en su mayoría las clasificará en las categorías correctas.\n",
        "\n",
        "Ahora si, ya podemos comenzar con la práctica de este laboratorio."
      ]
    },
    {
      "cell_type": "markdown",
      "metadata": {
        "id": "Z_v7-967QN31"
      },
      "source": [
        "# CNN para clasificación de imágenes\n",
        "\n",
        "Tutorial extraído de https://www.tensorflow.org/tutorials/images/cnn"
      ]
    },
    {
      "cell_type": "markdown",
      "metadata": {
        "id": "qLGkt5qiyz4E"
      },
      "source": [
        "Este tutorial muestra el entrenamiento de un *red neuronal convolucional* (CNN) para clasificar imágenes del dataset [CIFAR](https://www.cs.toronto.edu/~kriz/cifar.html). Dado que el tutorial utiliza [Keras Sequential API](https://www.tensorflow.org/guide/keras/overview), la creación y el entrenamiento del modelo consiste sólo en unas pocas líneas de código.\n",
        "\n",
        "[TensorFlow](https://www.tensorflow.org/) es una biblioteca de código abierto para machine learning desarrollado por Google para construir y entrenar redes neuronales profundas. El nombre TensorFlow deriva de las operaciones que tales redes neuronales realizan sobre **arrays multidimensionales de datos**. Estos arrays multidimensionales son referidos como \"tensores\".\n",
        "\n",
        "Además de este notebook, si te quedas con ganas más, te recomiendo chequear este tutorial https://www.tensorflow.org/tutorials/images/classification."
      ]
    },
    {
      "cell_type": "markdown",
      "metadata": {
        "id": "m7KBpffWzlxH"
      },
      "source": [
        "## Importar TensorFlow"
      ]
    },
    {
      "cell_type": "code",
      "metadata": {
        "id": "iAve6DCL4JH4"
      },
      "source": [
        "from __future__ import absolute_import, division, print_function, unicode_literals\n",
        "\n",
        "try:\n",
        "  # %tensorflow_version only exists in Colab.\n",
        "  %tensorflow_version 2.x\n",
        "except Exception:\n",
        "  pass\n",
        "import tensorflow as tf\n",
        "\n",
        "from tensorflow.keras import datasets, layers, models\n",
        "import matplotlib.pyplot as plt"
      ],
      "execution_count": null,
      "outputs": []
    },
    {
      "cell_type": "markdown",
      "metadata": {
        "id": "jRFxccghyMVo"
      },
      "source": [
        "## Descargar y procesar el dataset CIFAR10\n",
        "\n",
        "El dataset CIFAR10 contiene 60.000 imágenes en color para 10 clases, con 6.000 imágenes en cada clase. El conjunto de datos se divide en 50.000 imágenes de entrenamiento y 10.000 imágenes de prueba. las clases son mutuamente excluyentes y no hay solapamiento entre ellas."
      ]
    },
    {
      "cell_type": "code",
      "metadata": {
        "id": "JWoEqyMuXFF4"
      },
      "source": [
        "(train_images, train_labels), (test_images, test_labels) = datasets.cifar10.load_data()\n",
        "\n",
        "# Normalize pixel values to be between 0 and 1\n",
        "train_images, test_images = train_images / 255.0, test_images / 255.0"
      ],
      "execution_count": null,
      "outputs": []
    },
    {
      "cell_type": "markdown",
      "metadata": {
        "id": "7wArwCTJJlUa"
      },
      "source": [
        "## Verificar los datos\n",
        "\n",
        "Para verificar que el dataset es correcto, vamos a mostrar las primeras 25 imágenes del conjunto de entrenamiento y junto al nombre de su clase debajo de cada imagen.\n"
      ]
    },
    {
      "cell_type": "code",
      "metadata": {
        "id": "K3PAELE2eSU9"
      },
      "source": [
        "class_names = ['airplane', 'automobile', 'bird', 'cat', 'deer',\n",
        "               'dog', 'frog', 'horse', 'ship', 'truck']\n",
        "\n",
        "plt.figure(figsize=(10,10))\n",
        "for i in range(25):\n",
        "    plt.subplot(5,5,i+1)\n",
        "    plt.xticks([])\n",
        "    plt.yticks([])\n",
        "    plt.grid(False)\n",
        "    plt.imshow(train_images[i], cmap=plt.cm.binary)\n",
        "    # The CIFAR labels happen to be arrays, \n",
        "    # which is why you need the extra index\n",
        "    plt.xlabel(class_names[train_labels[i][0]])\n",
        "plt.show()"
      ],
      "execution_count": null,
      "outputs": []
    },
    {
      "cell_type": "markdown",
      "metadata": {
        "id": "Oewp-wYg31t9"
      },
      "source": [
        "## Crear la base de la CNN (extractor de features)"
      ]
    },
    {
      "cell_type": "markdown",
      "metadata": {
        "id": "3hQvqXpNyN3x"
      },
      "source": [
        "Antes de empezar, se recomienda tener a mano la [documentación de referencia de la librería TensorFlow](https://www.tensorflow.org/api_docs/python/tf), ya que les será muy útil para indagar en la definión de las funciones utilizadas en esta parte del notebook\n",
        "\n",
        "Las 6 líneas de código presentadas a continuación definen la base de la red convolucional utilizando un patrón común: una pila de [Conv2D](https://www.tensorflow.org/api_docs/python/tf/keras/layers/Conv2D) y [MaxPooling2D](https://www.tensorflow.org/api_docs/python/tf/keras/layers/MaxPool2D) layers. Este conjunto de capas serán las encargadas de extraer las features de las imágenes una vez que se haya entrenado el modelo completo.\n",
        "\n",
        "Esta CNN toma como entrada tensores de la forma `input_shape=(32, 32, 3)`, donde cada argumento corresponde a `(alto, ancho, canales)`, es decir, el formato de las imágenes del dataset CIFAR. La forma de la capa de entrada se especifica en la primer capa de convolución `Conv2D`. \n",
        "\n",
        "Cada capa `Conv2D` requiere que se especifiquen una serie de argumentos. En este caso la primera `Conv2D` especifica 32 filtro de tamaño 3x3, mientras que la segunda y tercera `Conv2D` especifican 64 filtro de tamaño 3x3 cada una.\n",
        "\n",
        "Además, entre cada capa Conv2D tenemos una capa de `MaxPooling` de tamaño 2x2 cada una.\n"
      ]
    },
    {
      "cell_type": "code",
      "metadata": {
        "id": "L9YmGQBQPrdn"
      },
      "source": [
        "model = models.Sequential()\n",
        "# 1st convolution layer: 32 filters of 3x3, ReLU activation function\n",
        "model.add(layers.Conv2D(32, (3, 3), activation='relu', input_shape=(32, 32, 3)))\n",
        "# 1st max pooling layer: 2x2\n",
        "model.add(layers.MaxPooling2D((2, 2)))\n",
        "# 2nd convolution layer: 64 filters of 3x3, ReLU activation function\n",
        "model.add(layers.Conv2D(64, (3, 3), activation='relu'))\n",
        "# 2nd max pooling layer: 2x2\n",
        "model.add(layers.MaxPooling2D((2, 2)))\n",
        "# 3st convolution layer: 64 filters of 3x3, ReLU activation function\n",
        "model.add(layers.Conv2D(64, (3, 3), activation='relu'))"
      ],
      "execution_count": null,
      "outputs": []
    },
    {
      "cell_type": "markdown",
      "metadata": {
        "id": "lvDVFkg-2DPm"
      },
      "source": [
        "Ahora podemos visualizar la arquitectura de nuestra CNN haciendo:"
      ]
    },
    {
      "cell_type": "code",
      "metadata": {
        "id": "8-C4XBg4UTJy"
      },
      "source": [
        "model.summary()"
      ],
      "execution_count": null,
      "outputs": []
    },
    {
      "cell_type": "markdown",
      "metadata": {
        "id": "_j-AXYeZ2GO5"
      },
      "source": [
        "Arriba se puede ver que la salida de cada capa `Conv2D` y `MaxPooling2D` es un tensor 3D con la forma (None, **alto, ancho, canales**). Por el momento el valor \"None\" va a ser ignorado. Las dimensiones de **ancho** y **alto** tienden a disminuir a medida que se avanza más profundamente en la red (ya que no se ha especificado el uso de *padding*). El número de **canales** se corresponde con la cantidad de filtros (o lo que es lo mismo, la cantidad de features maps de salida para cada `Conv2D`). Dado que el ancho y alto de la imagen de entrada se reduce sistemáticamente a medida que se avanza en la red, se puede pagar el costo computacional para añadir más canales de salida en cada capa `Conv2D`.\n",
        "\n",
        "Finalmente, la última columna de la tabla presenta la cantidad de parámetros de cada capa, es decir, la cantidad de pesos.\n"
      ]
    },
    {
      "cell_type": "markdown",
      "metadata": {
        "id": "_v8sVOtG37bT"
      },
      "source": [
        "## Añadir capas densas (Clasificador)\n",
        "\n",
        "Para completar nuestro modelo, se usa el último tensor de salida de la arquitectura base para alimentar una ANN que permita realizar la clasificación. Recuerden que las capas `Dense` toman vectores como entrada (que son arreglos 1D), mientras que la salida del tensor es 3D. En primer lugar, vamos a aplanar la salida 3D de la arquitectura base a 1D, y a continuación, añadimos dos capas densas. CIFAR tiene 10 clases de salida, por lo que la capa de salida contiene 10 nodos y una activación **softmax** (otro tipo de función de activación con la misma función de *sigmoid* o *ReLu* vistas antes)."
      ]
    },
    {
      "cell_type": "code",
      "metadata": {
        "id": "mRs95d6LUVEi"
      },
      "source": [
        "# Flatten layer\n",
        "model.add(layers.Flatten())\n",
        "# Dense layer\n",
        "model.add(layers.Dense(64, activation='relu'))\n",
        "# Output layer\n",
        "model.add(layers.Dense(10, activation='softmax'))"
      ],
      "execution_count": null,
      "outputs": []
    },
    {
      "cell_type": "markdown",
      "metadata": {
        "id": "ipGiQMcR4Gtq"
      },
      "source": [
        "Para ver la arquitectura completa de nuestro modelo luego de añadir las capas totalmente conectadas, hacemos:"
      ]
    },
    {
      "cell_type": "code",
      "metadata": {
        "id": "8Yu_m-TZUWGX"
      },
      "source": [
        "model.summary()"
      ],
      "execution_count": null,
      "outputs": []
    },
    {
      "cell_type": "markdown",
      "metadata": {
        "id": "xNKXi-Gy3RO-"
      },
      "source": [
        "Como se puede ver, la salida de la arquitectura base tiene la forma (4, 4, 64), que es aplanada a un vector de 1024 nodos antes de pasar por los dos capas densas de la ANN."
      ]
    },
    {
      "cell_type": "markdown",
      "metadata": {
        "id": "P3odqfHP4M67"
      },
      "source": [
        "## Compilar y entrenar el modelo"
      ]
    },
    {
      "cell_type": "code",
      "metadata": {
        "id": "MdDzI75PUXrG"
      },
      "source": [
        "model.compile(optimizer='adam',\n",
        "              loss='sparse_categorical_crossentropy',\n",
        "              metrics=['accuracy'])\n",
        "\n",
        "history = model.fit(train_images, train_labels, epochs=10, \n",
        "                    validation_data=(test_images, test_labels))"
      ],
      "execution_count": null,
      "outputs": []
    },
    {
      "cell_type": "markdown",
      "metadata": {
        "id": "jKgyC5K_4O0d"
      },
      "source": [
        "## Evaluar el modelo"
      ]
    },
    {
      "cell_type": "code",
      "metadata": {
        "id": "gtyDF0MKUcM7"
      },
      "source": [
        "plt.plot(history.history['accuracy'], label='accuracy')\n",
        "plt.plot(history.history['val_accuracy'], label = 'val_accuracy')\n",
        "plt.xlabel('Epoch')\n",
        "plt.ylabel('Accuracy')\n",
        "plt.ylim([0.5, 1])\n",
        "plt.legend(loc='lower right')\n",
        "\n",
        "test_loss, test_acc = model.evaluate(test_images,  test_labels, verbose=2)"
      ],
      "execution_count": null,
      "outputs": []
    },
    {
      "cell_type": "code",
      "metadata": {
        "id": "0LvwaKhtUdOo"
      },
      "source": [
        "print(test_acc)"
      ],
      "execution_count": null,
      "outputs": []
    },
    {
      "cell_type": "markdown",
      "metadata": {
        "id": "8cfJ8AR03gT5"
      },
      "source": [
        "Finalmente, vemos que nuestra CNN ha logrado un *accuracy* sobre el conjunto de pruebas cercano al 70%, lo cual no está nada mal para un par de líneas de código y unos minutos de ejecución."
      ]
    },
    {
      "cell_type": "markdown",
      "metadata": {
        "id": "1EZDJdHHadcx"
      },
      "source": [
        "## Visualizar filtros convolucionales aprendidos en la CNN\n",
        "\n",
        "Una vez realizado el proceso de entrenamiento, las CNNs usan los filtros aprendidos para producir features maps sobre la imagen de entrada o sobre otros features maps que representan la salida en capas anteriores. Estos filtros son arreglos bidimensionales que contienen los pesos estimados durante el entrenamiento.\n",
        "\n"
      ]
    },
    {
      "cell_type": "code",
      "metadata": {
        "id": "Sr6MH7--bwAv"
      },
      "source": [
        "import math\n",
        "import numpy as np\n",
        "\n",
        "# Iterate thru all the layers of the model\n",
        "\n",
        "layers = [model.layers[2]]  # First layer\n",
        "#layers = model.layers       # All layer (WARNING: Take a lot of time!!)\n",
        "for layer in layers:\n",
        "    if 'conv' in layer.name:\n",
        "        weights, bias= layer.get_weights()\n",
        "        print(layer.name)\n",
        "        \n",
        "        #normalize filter values between 0 and 1 for visualization\n",
        "        f_min, f_max = weights.min(), weights.max()\n",
        "        filters = (weights - f_min) / (f_max - f_min)  \n",
        "        print(filters.shape)\n",
        "        filter_cnt=1\n",
        "        \n",
        "        fig = plt.figure(figsize=(math.ceil(filters.shape[2]/2), math.ceil(filters.shape[3]/2)))\n",
        "        #plotting all the filters\n",
        "        for i in range(filters.shape[3]):\n",
        "            #get the filters\n",
        "            filt=filters[:,:,:,i]\n",
        "            #plotting each of the channel, color image RGB channels\n",
        "            for j in range(filters.shape[2]):\n",
        "                ax = fig.add_subplot(filters.shape[3], filters.shape[2], filter_cnt)\n",
        "                ax.set_xticks([])\n",
        "                ax.set_yticks([])\n",
        "                plt.imshow(filt[:,:,j])\n",
        "                filter_cnt += 1\n",
        "        plt.show()"
      ],
      "execution_count": null,
      "outputs": []
    },
    {
      "cell_type": "markdown",
      "metadata": {
        "id": "77Yr-tV8Z5F4"
      },
      "source": [
        "## Visualizar features maps generados con la CNN\n",
        "\n",
        "Como ya vimos, los features maps se generan aplicando los filtros convolucionales a la imagen de entrada o a otros feratures maps que representan la salida en capas anteriores. La visualización de features maps proporciona información sobre las representaciones internas dada una entrada específica para cada una de las capas convolucionales del modelo.\n",
        "\n",
        "\n"
      ]
    },
    {
      "cell_type": "code",
      "metadata": {
        "id": "N16zyLqQb3MU"
      },
      "source": [
        "np.seterr(divide='ignore', invalid='ignore')\n",
        "\n",
        "# Retrieve layer and its names\n",
        "idx_layer = [4] # Change idx_layer values for specific layers\n",
        "successive_outputs = [model.layers[i].output for i in idx_layer]\n",
        "layer_names = [model.layers[i].name for i in idx_layer]\n",
        "\n",
        "# Define a new Model\n",
        "# Input = image \n",
        "# Outputs = intermediate representations for all layers in the previous model after the first.\n",
        "visualization_model = tf.keras.models.Model(inputs = model.input, outputs = successive_outputs)\n",
        "\n",
        "# Shape images\n",
        "height = test_images.shape[1]\n",
        "width = test_images.shape[2]\n",
        "channel = test_images.shape[3]\n",
        "# For some images in dataset. Chage to select another images\n",
        "for img_idx in (0,1000,2000,3000,4000):\n",
        "  #Load the input image\n",
        "  img = test_images[img_idx, :, :, :]\n",
        "  img = img.reshape(1, height, width, channel)\n",
        "\n",
        "  # Let's run input image through our vislauization network\n",
        "  # to obtain all intermediate representations for the image.\n",
        "  successive_feature_maps = visualization_model.predict(img)\n",
        " \n",
        "  for idx_sfm in range(len(successive_feature_maps)):\n",
        "    layer_name = layer_names[idx_sfm]\n",
        "    feature_map = successive_feature_maps[idx_sfm]\n",
        "    \n",
        "    # Only in case of selecting a single layer \n",
        "    if len(feature_map.shape)==3:\n",
        "      x = feature_map.shape[0]\n",
        "      y = feature_map.shape[1]\n",
        "      z = feature_map.shape[2]\n",
        "      feature_map = feature_map.reshape(1, x, y, z)\n",
        "\n",
        "    if len(feature_map.shape) == 4:\n",
        "      # Plot Feature maps for the conv / maxpool layers, not the fully-connected layers\n",
        "      n_features = feature_map.shape[-1]  # number of features in the feature map\n",
        "      size       = feature_map.shape[ 1]  # feature map shape (1, size, size, n_features)\n",
        "      \n",
        "      # We will tile our images in this matrix\n",
        "      display_grid = np.zeros((size, (size) * n_features))\n",
        "      \n",
        "      # Postprocess the feature to be visually palatable\n",
        "      for idx_nfeat in tf.range(n_features):\n",
        "        x  = feature_map[0, :, :, idx_nfeat]\n",
        "        x -= x.mean()\n",
        "        x /= x.std ()\n",
        "        x *=  64\n",
        "        x += 128\n",
        "        x  = np.clip(x, 0, 255).astype('uint8')\n",
        "        # Tile each filter into a horizontal grid\n",
        "        display_grid[:, idx_nfeat * size : (idx_nfeat + 1) * size] = x# Display the grid\n",
        "\n",
        "      scale = 20. / n_features\n",
        "      plt.figure( figsize=(scale * n_features, scale) )\n",
        "      plt.title ( class_names[train_labels[img_idx][0]] + \" :: \" + layer_name + \" :: \" + str(feature_map.shape) )\n",
        "      plt.grid  ( False )\n",
        "      plt.imshow( display_grid, aspect='auto', cmap='viridis' )"
      ],
      "execution_count": null,
      "outputs": []
    },
    {
      "cell_type": "markdown",
      "metadata": {
        "id": "2ln55VWBfjgc"
      },
      "source": [
        "---\n",
        "\n",
        "# Trabajo Práctico 1 (segunda parte)\n",
        "\n",
        "**Acá tienen que dejar los datos de las y los integrantes del grupo:**\n",
        "\n",
        "Nombre y Apellido, DNI, correo eletrónico\n",
        "\n",
        "---"
      ]
    },
    {
      "cell_type": "markdown",
      "metadata": {
        "id": "2j3DS0bPOXJd"
      },
      "source": [
        "## **EJERCICIO 2.1**: entrenar la CNN para resolver un nuevo problema\n",
        "\n",
        "Reproduzca el workflow completo del tutorial presentado en este notebook para el data set utilizado en el notebook anterior con ANN: [Fashion MNIST](https://github.com/zalandoresearch/fashion-mnist). Esto implica:\n",
        "\n",
        "- Separar el nuevo dataset en un **conjunto de entrenamiento** y un **conjunto de testeo**\n",
        "- Realizar el **entrenamiento de la CNN**\n",
        "- Realizar **evaluación del modelo** y reportar los resultados\n",
        "- Presentar una **comparación** entre los resultados obtenidos con ANN y CNN."
      ]
    },
    {
      "cell_type": "markdown",
      "source": [
        "##<font color='blue'>**Desarrollo EJERCICIO 2.1**</font> "
      ],
      "metadata": {
        "id": "y0uFOeuRunPI"
      }
    },
    {
      "cell_type": "markdown",
      "metadata": {
        "id": "_h4YJ4gVovhT"
      },
      "source": [
        "###<font color='blue'>**Descarga dataset Fashion MNIST**</font>\n",
        "\n",
        "El dataset contiene 70.000 imágenes en escala de grises para 10 clases. Las imágenes muestran artículos individuales de ropa a una resolución de 28 por 28 pixeles. \n",
        "\n",
        "Separamos el dataset dejando 60.000 imagenes para entrenamiento y 10.000 para validación. "
      ]
    },
    {
      "cell_type": "code",
      "metadata": {
        "id": "CW1m5OCyovhU"
      },
      "source": [
        "from tensorflow import keras\n",
        "fashion_mnist = keras.datasets.fashion_mnist\n",
        "\n",
        "(train_images, train_labels), (test_images, test_labels) = fashion_mnist.load_data()\n",
        "\n",
        "# Normalize pixel values to be between 0 and 1\n",
        "train_images, test_images = train_images / 255.0, test_images / 255.0"
      ],
      "execution_count": null,
      "outputs": []
    },
    {
      "cell_type": "markdown",
      "metadata": {
        "id": "ia2EyYlpovhU"
      },
      "source": [
        "###<font color='blue'>**Visualización del dataset**</font>\n",
        "\n",
        "Mostramos las primeras 25 imágenes del conjunto de entrenamiento con su correspondiente clase.\n"
      ]
    },
    {
      "cell_type": "code",
      "metadata": {
        "id": "R2y-pkK7ovhU"
      },
      "source": [
        "class_names = ['T-shirt/top', 'Trouser', 'Pullover', 'Dress', 'Coat',\n",
        "               'Sandal', 'Shirt', 'Sneaker', 'Bag', 'Ankle boot']\n",
        "\n",
        "plt.figure(figsize=(10,10))\n",
        "for i in range(25):\n",
        "    plt.subplot(5,5,i+1)\n",
        "    plt.xticks([])\n",
        "    plt.yticks([])\n",
        "    plt.grid(False)\n",
        "    plt.imshow(train_images[i], cmap=plt.cm.binary)\n",
        "    plt.xlabel(class_names[train_labels[i]])\n",
        "plt.show()\n",
        "\n"
      ],
      "execution_count": null,
      "outputs": []
    },
    {
      "cell_type": "markdown",
      "metadata": {
        "id": "9q4R1oNZovhU"
      },
      "source": [
        "###<font color='blue'>**Creación de la base de la CNN**</font>"
      ]
    },
    {
      "cell_type": "markdown",
      "metadata": {
        "id": "brcbBXvgovhU"
      },
      "source": [
        "Replicamos lo realizado en el práctico pero cambiando el input_shape ya que las imágenes de Fashin MNIST son de 28x28 y están en escala de grises. Por ende, el input_shape es de 28x28x1\n"
      ]
    },
    {
      "cell_type": "code",
      "metadata": {
        "id": "lKq_4S3zovhV"
      },
      "source": [
        "model = models.Sequential()\n",
        "# 1st convolution layer: 32 filters of 3x3, ReLU activation function\n",
        "model.add(layers.Conv2D(32, (3, 3), activation='relu', input_shape=(28, 28, 1))) # El input_shape anterior era (28,28,3)\n",
        "# 1st max pooling layer: 2x2\n",
        "model.add(layers.MaxPooling2D((2, 2)))\n",
        "# 2nd convolution layer: 64 filters of 3x3, ReLU activation function\n",
        "model.add(layers.Conv2D(64, (3, 3), activation='relu'))\n",
        "# 2nd max pooling layer: 2x2\n",
        "model.add(layers.MaxPooling2D((2, 2)))\n",
        "# 3st convolution layer: 64 filters of 3x3, ReLU activation function\n",
        "model.add(layers.Conv2D(64, (3, 3), activation='relu'))"
      ],
      "execution_count": null,
      "outputs": []
    },
    {
      "cell_type": "markdown",
      "metadata": {
        "id": "C_51X3MjovhV"
      },
      "source": [
        "###<font color='blue'>**Visualizamos la arquitectura de nuestra CNN**</font>"
      ]
    },
    {
      "cell_type": "code",
      "metadata": {
        "id": "a3em7aeuovhV"
      },
      "source": [
        "model.summary()"
      ],
      "execution_count": null,
      "outputs": []
    },
    {
      "cell_type": "markdown",
      "metadata": {
        "id": "5gxS3QOgovhV"
      },
      "source": [
        "###<font color='blue'>**Añadimos las capas densas para el clasificador**</font>\n",
        "\n",
        "Replicamos lo realizado en el práctico"
      ]
    },
    {
      "cell_type": "code",
      "metadata": {
        "id": "3eZImvPAovhV"
      },
      "source": [
        "# Flatten layer\n",
        "model.add(layers.Flatten())\n",
        "# Dense layer\n",
        "model.add(layers.Dense(64, activation='relu'))\n",
        "# Output layer\n",
        "model.add(layers.Dense(10, activation='softmax'))"
      ],
      "execution_count": null,
      "outputs": []
    },
    {
      "cell_type": "markdown",
      "metadata": {
        "id": "or8qbZM5ovhW"
      },
      "source": [
        "Para ver la arquitectura completa de nuestro modelo luego de añadir las capas totalmente conectadas, hacemos:"
      ]
    },
    {
      "cell_type": "code",
      "metadata": {
        "id": "nmnsaexLovhW"
      },
      "source": [
        "model.summary()"
      ],
      "execution_count": null,
      "outputs": []
    },
    {
      "cell_type": "markdown",
      "metadata": {
        "id": "dIXUmAL6ovhW"
      },
      "source": [
        "###<font color='blue'>**Compilamos y entrenamos el modelo**</font>## "
      ]
    },
    {
      "cell_type": "code",
      "metadata": {
        "id": "MpLxOLLhovhW"
      },
      "source": [
        "model.compile(optimizer='adam',\n",
        "              loss='sparse_categorical_crossentropy',\n",
        "              metrics=['accuracy'])\n",
        "\n",
        "history = model.fit(train_images, train_labels, epochs=10, \n",
        "                    validation_data=(test_images, test_labels))"
      ],
      "execution_count": null,
      "outputs": []
    },
    {
      "cell_type": "markdown",
      "metadata": {
        "id": "p4CE6tnGovhW"
      },
      "source": [
        "###<font color='blue'>**Evaluamos el modelo**</font>## "
      ]
    },
    {
      "cell_type": "code",
      "metadata": {
        "id": "onOOcWMTovhX"
      },
      "source": [
        "plt.plot(history.history['accuracy'], label='accuracy')\n",
        "plt.plot(history.history['val_accuracy'], label = 'val_accuracy')\n",
        "plt.xlabel('Epoch')\n",
        "plt.ylabel('Accuracy')\n",
        "plt.ylim([0.5, 1])\n",
        "plt.legend(loc='lower right')\n",
        "\n",
        "test_loss, test_acc = model.evaluate(test_images,  test_labels, verbose=2)"
      ],
      "execution_count": null,
      "outputs": []
    },
    {
      "cell_type": "code",
      "metadata": {
        "id": "oCi8CblQovhX"
      },
      "source": [
        "print(test_acc)"
      ],
      "execution_count": null,
      "outputs": []
    },
    {
      "cell_type": "markdown",
      "source": [
        "###<font color='blue'>**Mostramos los resultados obtenidos con la ANN en el Lab 1, a fin de comparar luego con los obtenidos con la CNN**</font>## "
      ],
      "metadata": {
        "id": "Ve5PcwHg09CG"
      }
    },
    {
      "cell_type": "markdown",
      "source": [
        "![image.png](data:image/png;base64,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)"
      ],
      "metadata": {
        "id": "8yXJq5yA1PFr"
      }
    },
    {
      "cell_type": "markdown",
      "source": [
        "![image.png](data:image/png;base64,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)"
      ],
      "metadata": {
        "id": "nPUhOSvk3Lr5"
      }
    },
    {
      "cell_type": "markdown",
      "source": [
        "###<font color='blue'>**Conclusión de la comparación resultados ANN vs CNN**</font>## \n",
        "\n",
        "Se observa que con CNN se alcanzó un accuracy más alto."
      ],
      "metadata": {
        "id": "vQGVrG4z3P-7"
      }
    },
    {
      "cell_type": "markdown",
      "metadata": {
        "id": "DCHWAC2BovhX"
      },
      "source": [
        "###<font color='blue'>**Visualizamos filtros convolucionales aprendidos en la CNN**</font>## \n",
        "\n"
      ]
    },
    {
      "cell_type": "code",
      "metadata": {
        "id": "SPi07TodovhX"
      },
      "source": [
        "import math\n",
        "import numpy as np\n",
        "\n",
        "# Iterate thru all the layers of the model\n",
        "\n",
        "layers = [model.layers[2]]  # First layer\n",
        "#layers = model.layers       # All layer (WARNING: Take a lot of time!!)\n",
        "for layer in layers:\n",
        "    if 'conv' in layer.name:\n",
        "        weights, bias= layer.get_weights()\n",
        "        print(layer.name)\n",
        "        \n",
        "        #normalize filter values between 0 and 1 for visualization\n",
        "        f_min, f_max = weights.min(), weights.max()\n",
        "        filters = (weights - f_min) / (f_max - f_min)  \n",
        "        print(filters.shape)\n",
        "        filter_cnt=1\n",
        "        \n",
        "        fig = plt.figure(figsize=(math.ceil(filters.shape[2]/2), math.ceil(filters.shape[3]/2)))\n",
        "        #plotting all the filters\n",
        "        for i in range(filters.shape[3]):\n",
        "            #get the filters\n",
        "            filt=filters[:,:,:,i]\n",
        "            #plotting each of the channel, color image RGB channels\n",
        "            for j in range(filters.shape[2]):\n",
        "                ax = fig.add_subplot(filters.shape[3], filters.shape[2], filter_cnt)\n",
        "                ax.set_xticks([])\n",
        "                ax.set_yticks([])\n",
        "                plt.imshow(filt[:,:,j])\n",
        "                filter_cnt += 1\n",
        "        plt.show()"
      ],
      "execution_count": null,
      "outputs": []
    },
    {
      "cell_type": "markdown",
      "metadata": {
        "id": "g1CQwlP3ovhY"
      },
      "source": [
        "###<font color='blue'>**Visualizamos features maps generados con la CNN**</font>##  \n",
        "\n",
        "Como ya vimos, los features maps se generan aplicando los filtros convolucionales a la imagen de entrada o a otros feratures maps que representan la salida en capas anteriores. La visualización de features maps proporciona información sobre las representaciones internas dada una entrada específica para cada una de las capas convolucionales del modelo.\n",
        "\n",
        "\n"
      ]
    },
    {
      "cell_type": "code",
      "metadata": {
        "id": "ePxd0ebBovhY"
      },
      "source": [
        "np.seterr(divide='ignore', invalid='ignore')\n",
        "\n",
        "# Retrieve layer and its names\n",
        "idx_layer = [4] # Change idx_layer values for specific layers\n",
        "successive_outputs = [model.layers[i].output for i in idx_layer]\n",
        "layer_names = [model.layers[i].name for i in idx_layer]\n",
        "\n",
        "# Define a new Model\n",
        "# Input = image \n",
        "# Outputs = intermediate representations for all layers in the previous model after the first.\n",
        "visualization_model = tf.keras.models.Model(inputs = model.input, outputs = successive_outputs)\n",
        "\n",
        "# Shape images\n",
        "height = test_images.shape[1]\n",
        "width = test_images.shape[2]\n",
        "#channel = test_images.shape[3]\n",
        "# For some images in dataset. Chage to select another images\n",
        "for img_idx in (0,1000,2000,3000,4000):\n",
        "  #Load the input image\n",
        "  img = test_images[img_idx, :, :]\n",
        "  img = img.reshape(1, height, width)\n",
        "\n",
        "  # Let's run input image through our vislauization network\n",
        "  # to obtain all intermediate representations for the image.\n",
        "  successive_feature_maps = visualization_model.predict(img)\n",
        " \n",
        "  for idx_sfm in range(len(successive_feature_maps)):\n",
        "    layer_name = layer_names[idx_sfm]\n",
        "    feature_map = successive_feature_maps[idx_sfm]\n",
        "    \n",
        "    # Only in case of selecting a single layer \n",
        "    if len(feature_map.shape)==3:\n",
        "      x = feature_map.shape[0]\n",
        "      y = feature_map.shape[1]\n",
        "      z = feature_map.shape[2]\n",
        "      feature_map = feature_map.reshape(1, x, y, z)\n",
        "\n",
        "    if len(feature_map.shape) == 4:\n",
        "      # Plot Feature maps for the conv / maxpool layers, not the fully-connected layers\n",
        "      n_features = feature_map.shape[-1]  # number of features in the feature map\n",
        "      size       = feature_map.shape[ 1]  # feature map shape (1, size, size, n_features)\n",
        "      \n",
        "      # We will tile our images in this matrix\n",
        "      display_grid = np.zeros((size, (size) * n_features))\n",
        "      \n",
        "      # Postprocess the feature to be visually palatable\n",
        "      for idx_nfeat in tf.range(n_features):\n",
        "        x  = feature_map[0, :, :, idx_nfeat]\n",
        "        x -= x.mean()\n",
        "        x /= x.std ()\n",
        "        x *=  64\n",
        "        x += 128\n",
        "        x  = np.clip(x, 0, 255).astype('uint8')\n",
        "        # Tile each filter into a horizontal grid\n",
        "        display_grid[:, idx_nfeat * size : (idx_nfeat + 1) * size] = x# Display the grid\n",
        "\n",
        "      scale = 20. / n_features\n",
        "      plt.figure( figsize=(scale * n_features, scale) )\n",
        "      plt.title ( class_names[train_labels[img_idx]] + \" :: \" + layer_name + \" :: \" + str(feature_map.shape) )\n",
        "      plt.grid  ( False )\n",
        "      plt.imshow( display_grid, aspect='auto', cmap='viridis' )"
      ],
      "execution_count": null,
      "outputs": []
    },
    {
      "cell_type": "markdown",
      "metadata": {
        "id": "D0eIVW1Mf-Ph"
      },
      "source": [
        "## **EJERCICIO 2.2 (OPCIONAL)**: proponer nuevas arquitecturas para la CNN\n",
        "\n",
        "Empleando los conceptos aprendidos en este tutorial, proponga dos nuevas arquitecturas para la CNN del tutorial (la que utiliza el dataset CIFAR10), una que  mejore los resultados de la anterior y otra que los empeore.\n",
        "\n",
        "TIP: aumentar o reducir drásticamente la cantidad de capas y nodos, pero ojo con los tiempos de ejecución para arquitecturas muy grandes!"
      ]
    },
    {
      "cell_type": "code",
      "metadata": {
        "id": "Yp1iPPbwf-qJ"
      },
      "source": [
        "# EJERCICIO 2.2 (OPCIONAL)\n",
        "# ..."
      ],
      "execution_count": null,
      "outputs": []
    }
  ]
}